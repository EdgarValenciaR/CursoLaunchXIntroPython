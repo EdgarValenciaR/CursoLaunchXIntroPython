{
 "cells": [
  {
   "cell_type": "markdown",
   "metadata": {},
   "source": [
    "# Ejercicio - Crear un paquete\n",
    "\n",
    "En este ejercicio, aprenderás a utilizar entornos virtuales como una forma para no afectar a los paquetes instalados globalmente u otros programas que se ejecutan en tu máquina.\n",
    "\n",
    "*Para este ejercicio es necesario que lo ejecutes desde la terminal, línea de comandos, cmd, consola, cli, etc. de tu computadora, sé que es desafíante, pero no te preocupes ¡¡Sé que puedes lograrlo!!*\n",
    "\n",
    "## Crear un entorno virtual\n",
    "\n",
    "Crea un entorno virtual mediante ``venv``\n",
    "\n",
    "* Ejecutar en su terminal: ``python3 -m venv env`` o bien ``python -m venv env``\n",
    "\n",
    "    ```\n",
    "       python3 -m venv env \n",
    "    ```\n",
    "    ``\n",
    "    python -m venv env\n",
    "    ``\n",
    "    Ahora tienes un directorio (folder) ``env`` creado en tu terminal.\n",
    "    "
   ]
  },
  {
   "cell_type": "code",
   "execution_count": 1,
   "metadata": {},
   "outputs": [
    {
     "data": {
      "image/png": "[encoded data removed]",
      "text/plain": [
       "<IPython.core.display.Image object>"
      ]
     },
     "execution_count": 1,
     "metadata": {},
     "output_type": "execute_result"
    }
   ],
   "source": [
    "from IPython.display import Image\n",
    "Image(\"img/uno-env.png\")"
   ]
  },
  {
   "cell_type": "markdown",
   "metadata": {},
   "source": [
    "* Ejecuta el comando para activar el entorno virtual: ``source env/bin/activate``\n",
    "\n",
    "    ```\n",
    "    source env/bin/activate\n",
    "    # Windows\n",
    "    env\\bin\\activate\n",
    "    \n",
    "    o bien: \n",
    "    env\\Scripts\\activate\n",
    "    # Linux, WSL or macOS\n",
    "    source env/bin/activate\n",
    "    ```\n",
    "\n",
    "Ahora ves en tu terminal ``(env)``. Eso significa que has activado tu entorno virtual y se ha aislado del resto de tu máquina."
   ]
  },
  {
   "cell_type": "code",
   "execution_count": 2,
   "metadata": {},
   "outputs": [
    {
     "data": {
      "image/png": "[encoded data removed]",
      "text/plain": [
       "<IPython.core.display.Image object>"
      ]
     },
     "execution_count": 2,
     "metadata": {},
     "output_type": "execute_result"
    }
   ],
   "source": [
    "from IPython.display import Image\n",
    "Image(\"img/dos-env.png\")"
   ]
  },
  {
   "cell_type": "markdown",
   "metadata": {},
   "source": [
    "## Instalar una biblioteca\n",
    "\n",
    "Ahora que estás dentro de tu entorno virtual, puedes instalar una biblioteca y saber que la biblioteca solo existirá en el entorno virtual.\n",
    "\n",
    "* Ejecuta el comando ``pip freeze`` para ver las bibliotecas instaladas en tu entorno:\n",
    "\n",
    "    ```\n",
    "    pip freeze\n",
    "    ```\n",
    "\n",
    "    No deberías obtener respuesta. A continuación, veamos cómo cambia la salida de ``pip freeze`` cuando se agrega una biblioteca (un paquete)."
   ]
  },
  {
   "cell_type": "code",
   "execution_count": 3,
   "metadata": {},
   "outputs": [
    {
     "data": {
      "image/png": "[encoded data removed]",
      "text/plain": [
       "<IPython.core.display.Image object>"
      ]
     },
     "execution_count": 3,
     "metadata": {},
     "output_type": "execute_result"
    }
   ],
   "source": [
    "from IPython.display import Image\n",
    "Image(\"img/tres-env.png\")"
   ]
  },
  {
   "cell_type": "markdown",
   "metadata": {},
   "source": [
    "* Ejecuta el comando ``pip install`` para instalar una biblioteca:\n",
    "   ```\n",
    "   pip install python-dateutil\n",
    "   ```\n",
    "* Un gran mensaje de salida de texto dice que está instalando tu biblioteca, y debe terminar con la siguiente oración:\n",
    "\n",
    "    ```\n",
    "    Successfully installed python-dateutil-2.8.2 six-1.16.0\n",
    "    ```"
   ]
  },
  {
   "cell_type": "code",
   "execution_count": 4,
   "metadata": {},
   "outputs": [
    {
     "data": {
      "image/png": "[encoded data removed]",
      "text/plain": [
       "<IPython.core.display.Image object>"
      ]
     },
     "execution_count": 4,
     "metadata": {},
     "output_type": "execute_result"
    }
   ],
   "source": [
    "from IPython.display import Image\n",
    "Image(\"img/cuatro-env.png\")"
   ]
  },
  {
   "cell_type": "markdown",
   "metadata": {},
   "source": [
    "* Vuelve a ejecutar ```pip freeze``` para ver cómo ha cambiado tu lista de bibliotecas:\n",
    "    ```\n",
    "    pip freeze\n",
    "    ```\n",
    "* Ahora deberías ver la siguiente lista:\n",
    "    ```\n",
    "    python-dateutil==2.8.2\n",
    "    six==1.16.0\n",
    "    ```"
   ]
  },
  {
   "cell_type": "code",
   "execution_count": 5,
   "metadata": {},
   "outputs": [
    {
     "data": {
      "image/png": "[encoded data removed]",
      "text/plain": [
       "<IPython.core.display.Image object>"
      ]
     },
     "execution_count": 5,
     "metadata": {},
     "output_type": "execute_result"
    }
   ],
   "source": [
    "from IPython.display import Image\n",
    "Image(\"img/cinco-env.png\")"
   ]
  },
  {
   "cell_type": "markdown",
   "metadata": {},
   "source": [
    "### Desactivar un entorno virtual\n",
    "\n",
    "Hasta ahora, has creado un entorno virtual y le has agregado un paquete. Sin embargo, es posible que estés trabajando en varios proyectos de Python y necesites cambiar entre ellos. Para hacer eso, debes salir (desactivar) tu entorno virtual.\n",
    "\n",
    "Ejecuta el comando ``deactivate``:\n",
    "```\n",
    "deactivate\n",
    "```"
   ]
  },
  {
   "cell_type": "code",
   "execution_count": 6,
   "metadata": {},
   "outputs": [
    {
     "data": {
      "image/png": "[encoded data removed]",
      "text/plain": [
       "<IPython.core.display.Image object>"
      ]
     },
     "execution_count": 6,
     "metadata": {},
     "output_type": "execute_result"
    }
   ],
   "source": [
    "from IPython.display import Image\n",
    "Image(\"img/seis-env.png\")"
   ]
  },
  {
   "cell_type": "markdown",
   "metadata": {},
   "source": [
    "Redes:\n",
    "* GitHub: [Edgar Elvis Valencia Rosas](https://github.com/EdgarValenciaR)\n",
    "* Twitter: [@sivle1994](https://twitter.com/sivle1994)\n",
    "* Instagram: [edgar_elvis](https://www.instagram.com/edgar_elvis/)"
   ]
  }
 ],
 "metadata": {
  "interpreter": {
   "hash": "cb200b3be43ff4bd7101d51d95777c28ffb120d194d0b8ae712b89ad7ac4daec"
  },
  "kernelspec": {
   "display_name": "Python 3.10.2 64-bit",
   "language": "python",
   "name": "python3"
  },
  "language_info": {
   "codemirror_mode": {
    "name": "ipython",
    "version": 3
   },
   "file_extension": ".py",
   "mimetype": "text/x-python",
   "name": "python",
   "nbconvert_exporter": "python",
   "pygments_lexer": "ipython3",
   "version": "3.10.2"
  },
  "orig_nbformat": 4
 },
 "nbformat": 4,
 "nbformat_minor": 2
}
